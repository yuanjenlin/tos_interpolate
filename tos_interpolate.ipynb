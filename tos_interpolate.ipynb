{
 "cells": [
  {
   "cell_type": "code",
   "execution_count": 1,
   "id": "ba998846-62ed-4119-bc92-0f746cd92437",
   "metadata": {},
   "outputs": [
    {
     "ename": "AttributeError",
     "evalue": "Unknown open method 'open_esm_datastore'. Do you need to install a new driver from the plugin directory? https://intake.readthedocs.io/en/latest/plugin-directory.html\nRegistered opener methods: ['open_alias', 'open_catalog', 'open_csv', 'open_intake_remote', 'open_json', 'open_jsonl', 'open_ndzarr', 'open_numpy', 'open_textfiles', 'open_tiled', 'open_tiled_cat', 'open_yaml_file_cat', 'open_yaml_files_cat', 'open_zarr_cat', 'open_netcdf', 'open_opendap', 'open_rasterio', 'open_remote-xarray', 'open_xarray_image', 'open_zarr']",
     "output_type": "error",
     "traceback": [
      "\u001b[0;31m---------------------------------------------------------------------------\u001b[0m",
      "\u001b[0;31mAttributeError\u001b[0m                            Traceback (most recent call last)",
      "Cell \u001b[0;32mIn[1], line 14\u001b[0m\n\u001b[1;32m     12\u001b[0m \u001b[38;5;66;03m##### Cloud data\u001b[39;00m\n\u001b[1;32m     13\u001b[0m url \u001b[38;5;241m=\u001b[39m \u001b[38;5;124m\"\u001b[39m\u001b[38;5;124mhttps://storage.googleapis.com/cmip6/pangeo-cmip6.json\u001b[39m\u001b[38;5;124m\"\u001b[39m\n\u001b[0;32m---> 14\u001b[0m col \u001b[38;5;241m=\u001b[39m \u001b[43mintake\u001b[49m\u001b[38;5;241;43m.\u001b[39;49m\u001b[43mopen_esm_datastore\u001b[49m(url)\n\u001b[1;32m     15\u001b[0m gcs \u001b[38;5;241m=\u001b[39m gcsfs\u001b[38;5;241m.\u001b[39mGCSFileSystem(token\u001b[38;5;241m=\u001b[39m\u001b[38;5;124m'\u001b[39m\u001b[38;5;124manon\u001b[39m\u001b[38;5;124m'\u001b[39m)\n\u001b[1;32m     16\u001b[0m df  \u001b[38;5;241m=\u001b[39m pd\u001b[38;5;241m.\u001b[39mread_csv(\u001b[38;5;124m'\u001b[39m\u001b[38;5;124mhttps://storage.googleapis.com/cmip6/cmip6-zarr-consolidated-stores.csv\u001b[39m\u001b[38;5;124m'\u001b[39m)\n",
      "File \u001b[0;32m~/mambaforge/envs/env_gc/lib/python3.10/site-packages/intake/__init__.py:70\u001b[0m, in \u001b[0;36m__getattr__\u001b[0;34m(attr)\u001b[0m\n\u001b[1;32m     68\u001b[0m     \u001b[38;5;28;01melse\u001b[39;00m:\n\u001b[1;32m     69\u001b[0m         registered_methods \u001b[38;5;241m=\u001b[39m [\u001b[38;5;124mf\u001b[39m\u001b[38;5;124m\"\u001b[39m\u001b[38;5;124mopen_\u001b[39m\u001b[38;5;132;01m{\u001b[39;00mdriver\u001b[38;5;132;01m}\u001b[39;00m\u001b[38;5;124m\"\u001b[39m \u001b[38;5;28;01mfor\u001b[39;00m driver \u001b[38;5;129;01min\u001b[39;00m registry\u001b[38;5;241m.\u001b[39mdrivers\u001b[38;5;241m.\u001b[39menabled_plugins()]\n\u001b[0;32m---> 70\u001b[0m         \u001b[38;5;28;01mraise\u001b[39;00m \u001b[38;5;167;01mAttributeError\u001b[39;00m(\n\u001b[1;32m     71\u001b[0m             \u001b[38;5;124mf\u001b[39m\u001b[38;5;124m\"\u001b[39m\u001b[38;5;124mUnknown open method \u001b[39m\u001b[38;5;124m'\u001b[39m\u001b[38;5;132;01m{\u001b[39;00mattr\u001b[38;5;132;01m}\u001b[39;00m\u001b[38;5;124m'\u001b[39m\u001b[38;5;124m. \u001b[39m\u001b[38;5;124m\"\u001b[39m\n\u001b[1;32m     72\u001b[0m             \u001b[38;5;124m\"\u001b[39m\u001b[38;5;124mDo you need to install a new driver from the plugin directory? \u001b[39m\u001b[38;5;124m\"\u001b[39m\n\u001b[1;32m     73\u001b[0m             \u001b[38;5;124m\"\u001b[39m\u001b[38;5;124mhttps://intake.readthedocs.io/en/latest/plugin-directory.html\u001b[39m\u001b[38;5;130;01m\\n\u001b[39;00m\u001b[38;5;124m\"\u001b[39m\n\u001b[1;32m     74\u001b[0m             \u001b[38;5;124mf\u001b[39m\u001b[38;5;124m\"\u001b[39m\u001b[38;5;124mRegistered opener methods: \u001b[39m\u001b[38;5;132;01m{\u001b[39;00mregistered_methods\u001b[38;5;132;01m}\u001b[39;00m\u001b[38;5;124m\"\u001b[39m\n\u001b[1;32m     75\u001b[0m         )\n\u001b[1;32m     77\u001b[0m \u001b[38;5;28;01mraise\u001b[39;00m \u001b[38;5;167;01mAttributeError\u001b[39;00m(attr)\n",
      "\u001b[0;31mAttributeError\u001b[0m: Unknown open method 'open_esm_datastore'. Do you need to install a new driver from the plugin directory? https://intake.readthedocs.io/en/latest/plugin-directory.html\nRegistered opener methods: ['open_alias', 'open_catalog', 'open_csv', 'open_intake_remote', 'open_json', 'open_jsonl', 'open_ndzarr', 'open_numpy', 'open_textfiles', 'open_tiled', 'open_tiled_cat', 'open_yaml_file_cat', 'open_yaml_files_cat', 'open_zarr_cat', 'open_netcdf', 'open_opendap', 'open_rasterio', 'open_remote-xarray', 'open_xarray_image', 'open_zarr']"
     ]
    }
   ],
   "source": [
    "import intake\n",
    "import matplotlib.pyplot as plt\n",
    "import numpy as np\n",
    "import xarray as xr\n",
    "import xesmf as xe\n",
    "import pandas as pd\n",
    "import zarr\n",
    "import gcsfs\n",
    "import requests\n",
    "import warnings\n",
    "warnings.filterwarnings(\"ignore\")\n",
    "##### Cloud data\n",
    "url = \"https://storage.googleapis.com/cmip6/pangeo-cmip6.json\"\n",
    "col = intake.open_esm_datastore(url)\n",
    "gcs = gcsfs.GCSFileSystem(token='anon')\n",
    "df  = pd.read_csv('https://storage.googleapis.com/cmip6/cmip6-zarr-consolidated-stores.csv')"
   ]
  },
  {
   "cell_type": "code",
   "execution_count": null,
   "id": "b4f9b7a8-696e-4999-9059-045eaf8970d4",
   "metadata": {},
   "outputs": [],
   "source": [
    "def read_data(im):\n",
    "    im=im\n",
    "    ie='abrupt-4xCO2'\n",
    "    iv='tos'\n",
    "    cat = col.search(\n",
    "        source_id=im,\n",
    "        experiment_id=ie,\n",
    "        variable_id=iv,\n",
    "        table_id='Omon',\n",
    "        grid_label='gn',\n",
    "        member_id='r1i1p1f1',\n",
    "    )\n",
    "    dset_dict = cat.to_dataset_dict(zarr_kwargs={\"consolidated\": True, \"decode_times\": True, \"use_cftime\": True})\n",
    "    ds = dset_dict[list(dset_dict.keys())[0]].isel(time=0)\n",
    "    return ds"
   ]
  },
  {
   "cell_type": "code",
   "execution_count": null,
   "id": "8130da16-a872-49ac-bea9-607a3c9fe6a3",
   "metadata": {},
   "outputs": [],
   "source": [
    "im = 'CanESM5'\n",
    "ds = read_data(im).squeeze()\n",
    "grid_in   = {'lon': ds['tos']['longitude'], 'lat': ds['tos']['latitude']} \n",
    "grid_out  = {'lon': np.linspace(0, 359, 360), 'lat': np.linspace(-89.5, 89.5, 180)}\n",
    "regridder = xe.Regridder(grid_in, grid_out, 'bilinear', periodic=True, ignore_degenerate=True)\n",
    "tos_regrid           = regridder(ds['tos'])\n",
    "tos_regrid_ignore_NA = regridder(ds['tos'], skipna=True)"
   ]
  },
  {
   "cell_type": "code",
   "execution_count": null,
   "id": "a335d373-ed92-4111-afd6-99943141cf09",
   "metadata": {},
   "outputs": [],
   "source": [
    "fig, axs = plt.subplots(nrows=1,ncols=3,figsize=(18,3))\n",
    "axs      = axs.flatten()\n",
    "ds['tos'].plot(ax=axs[0])            ; axs[0].set_title(im+' raw tos');\n",
    "tos_regrid.plot(ax=axs[1])           ; axs[1].set_title(im+' tos (1x1 grid)');\n",
    "tos_regrid_ignore_NA.plot(ax=axs[2]) ; axs[2].set_title(im+' tos (1x1 grid; ignore NAs)');"
   ]
  },
  {
   "cell_type": "markdown",
   "id": "f10ec672-540c-4ffe-88b7-c0621f280ebe",
   "metadata": {},
   "source": [
    "### Special case: IPSL-CM6A-LR\n",
    "If we wish to regrid using the full data of IPSL model, we will encounter the issue of NAs along 72.5E. The issue appears to stem from the weird longitude near 72.5E in this model (which is the longitude edge). To circumvent this, I think we need to either skip the first column (`lon[0]`) or the last column (`lon[-1]`), so that longitude can be \"monotonic\" across the edges. More info below:"
   ]
  },
  {
   "cell_type": "code",
   "execution_count": null,
   "id": "e2031ae9-ae26-42ab-ab0c-5a12a50ea1fe",
   "metadata": {},
   "outputs": [],
   "source": [
    "im = 'IPSL-CM6A-LR'\n",
    "ds = read_data(im).squeeze()"
   ]
  },
  {
   "cell_type": "code",
   "execution_count": null,
   "id": "b9ac5d1b-0bc8-47ee-b364-cd4ed47c1542",
   "metadata": {},
   "outputs": [],
   "source": [
    "grid_in   = {'lon': ds['tos']['nav_lon'], 'lat': ds['tos']['nav_lat']} \n",
    "grid_out  = {'lon': np.linspace(0.5, 359.5, 360), 'lat': np.linspace(-89.5, 89.5, 180)}\n",
    "regridder = xe.Regridder(grid_in, grid_out, 'bilinear', periodic=True, ignore_degenerate=True)\n",
    "tos_regrid           = regridder(ds['tos'])\n",
    "tos_regrid_ignore_NA = regridder(ds['tos'], skipna=True)"
   ]
  },
  {
   "cell_type": "code",
   "execution_count": null,
   "id": "cfd7731e-e8c4-4c2b-beb1-206668b9323e",
   "metadata": {},
   "outputs": [],
   "source": [
    "fig, axs = plt.subplots(nrows=1,ncols=3,figsize=(18,3))\n",
    "axs      = axs.flatten()\n",
    "ds['tos'].plot(ax=axs[0])            ; axs[0].set_title(im+' raw tos');\n",
    "tos_regrid.plot(ax=axs[1])           ; axs[1].set_title(im+' tos (1x1 grid)');\n",
    "tos_regrid_ignore_NA.plot(ax=axs[2]) ; axs[2].set_title(im+' tos (1x1 grid; ignore NAs)');"
   ]
  },
  {
   "cell_type": "code",
   "execution_count": null,
   "id": "89a8c17b-62a2-4e2f-9185-35f07d93ea17",
   "metadata": {},
   "outputs": [],
   "source": [
    "grid_in   = {'lon': ds['tos']['nav_lon'][:,1:], 'lat': ds['tos']['nav_lat'][:,1:]} \n",
    "grid_out  = {'lon': np.linspace(0.5, 359.5, 360), 'lat': np.linspace(-89.5, 89.5, 180)}\n",
    "regridder = xe.Regridder(grid_in, grid_out, 'bilinear', periodic=True, ignore_degenerate=True)\n",
    "tos_regrid           = regridder(ds['tos'][:,1:])\n",
    "tos_regrid_ignore_NA = regridder(ds['tos'][:,1:], skipna=True)"
   ]
  },
  {
   "cell_type": "code",
   "execution_count": null,
   "id": "1ef5e191-8ed0-4f5b-9395-2b73b874a316",
   "metadata": {},
   "outputs": [],
   "source": [
    "fig, axs = plt.subplots(nrows=1,ncols=3,figsize=(18,3))\n",
    "axs      = axs.flatten()\n",
    "ds['tos'].plot(ax=axs[0])            ; axs[0].set_title(im+' raw tos');\n",
    "tos_regrid.plot(ax=axs[1])           ; axs[1].set_title(im+' tos (1x1 grid; skip lon[0])');\n",
    "tos_regrid_ignore_NA.plot(ax=axs[2]) ; axs[2].set_title(im+' tos (1x1 grid; skip lon[0]; ignore NAs)');"
   ]
  },
  {
   "cell_type": "code",
   "execution_count": null,
   "id": "68b93831-30b5-470e-b7f4-2fcb3aa2f209",
   "metadata": {},
   "outputs": [],
   "source": [
    "ds['tos']['nav_lon'][100,:].values # IPSL weird longitude\n",
    "# I think we should skip the first or the last one to make it monotonic through the edge, what do you think?"
   ]
  },
  {
   "cell_type": "code",
   "execution_count": null,
   "id": "aac16a2c-e323-4fa1-bd43-3c3f25653c64",
   "metadata": {},
   "outputs": [],
   "source": []
  }
 ],
 "metadata": {
  "kernelspec": {
   "display_name": "Python 3 (ipykernel)",
   "language": "python",
   "name": "python3"
  },
  "language_info": {
   "codemirror_mode": {
    "name": "ipython",
    "version": 3
   },
   "file_extension": ".py",
   "mimetype": "text/x-python",
   "name": "python",
   "nbconvert_exporter": "python",
   "pygments_lexer": "ipython3",
   "version": "3.10.12"
  }
 },
 "nbformat": 4,
 "nbformat_minor": 5
}
